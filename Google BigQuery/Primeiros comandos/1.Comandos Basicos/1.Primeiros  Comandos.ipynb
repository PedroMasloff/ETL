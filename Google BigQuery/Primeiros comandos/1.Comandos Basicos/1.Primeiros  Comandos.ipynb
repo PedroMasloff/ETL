{
 "cells": [
  {
   "cell_type": "code",
   "execution_count": 2,
   "metadata": {},
   "outputs": [],
   "source": [
    "nome = 'pedro'\n",
    "sobrenome = \"henrique\"\n"
   ]
  },
  {
   "cell_type": "code",
   "execution_count": 4,
   "metadata": {},
   "outputs": [
    {
     "name": "stdout",
     "output_type": "stream",
     "text": [
      "pedro henrique\n"
     ]
    }
   ],
   "source": [
    "print(nome,sobrenome)"
   ]
  }
 ],
 "metadata": {
  "kernelspec": {
   "display_name": "Python 3",
   "language": "python",
   "name": "python3"
  },
  "language_info": {
   "codemirror_mode": {
    "name": "ipython",
    "version": 3
   },
   "file_extension": ".py",
   "mimetype": "text/x-python",
   "name": "python",
   "nbconvert_exporter": "python",
   "pygments_lexer": "ipython3",
   "version": "3.12.3"
  },
  "orig_nbformat": 4,
  "vscode": {
   "interpreter": {
    "hash": "23f7ff7aaca6907098356dfc8e3c55a350765cf0620a4fd83dce43a62819432a"
   }
  }
 },
 "nbformat": 4,
 "nbformat_minor": 2
}
